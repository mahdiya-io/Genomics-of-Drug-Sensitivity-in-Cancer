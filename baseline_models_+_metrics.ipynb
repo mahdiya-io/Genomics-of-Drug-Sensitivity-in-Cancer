{
  "nbformat": 4,
  "nbformat_minor": 0,
  "metadata": {
    "colab": {
      "provenance": [],
      "authorship_tag": "ABX9TyPQUuFRlvkbgbvn2BFli+SZ",
      "include_colab_link": true
    },
    "kernelspec": {
      "name": "python3",
      "display_name": "Python 3"
    },
    "language_info": {
      "name": "python"
    }
  },
  "cells": [
    {
      "cell_type": "markdown",
      "metadata": {
        "id": "view-in-github",
        "colab_type": "text"
      },
      "source": [
        "<a href=\"https://colab.research.google.com/github/mahdiya-io/Genomics-of-Drug-Sensitivity-in-Cancer/blob/main/baseline_models_%2B_metrics.ipynb\" target=\"_parent\"><img src=\"https://colab.research.google.com/assets/colab-badge.svg\" alt=\"Open In Colab\"/></a>"
      ]
    },
    {
      "cell_type": "code",
      "execution_count": null,
      "metadata": {
        "id": "01eOcL78mQqY"
      },
      "outputs": [],
      "source": [
        "import numpy as np\n",
        "import pandas as pd\n",
        "import seaborn as sns\n",
        "import matplotlib.pyplot as plt\n",
        "import sklearn\n",
        "from sklearn.model_selection import train_test_split"
      ]
    },
    {
      "cell_type": "code",
      "source": [
        "gdsc_data = pd.read_csv(\"GDSC_DATASET.csv\")"
      ],
      "metadata": {
        "id": "dybJAbeHn6e2"
      },
      "execution_count": null,
      "outputs": []
    },
    {
      "cell_type": "code",
      "source": [
        "gdsc_data_raw = pd.read_csv(\"GDSC_DATASET.csv\")"
      ],
      "metadata": {
        "id": "Yf2jhQVGpPGf"
      },
      "execution_count": null,
      "outputs": []
    },
    {
      "cell_type": "code",
      "source": [
        "gdsc_data_raw.head()"
      ],
      "metadata": {
        "id": "fMdWWeF2pawX",
        "outputId": "82a865af-0aa9-4ce5-fbac-51992cb2ee2a",
        "colab": {
          "base_uri": "https://localhost:8080/",
          "height": 313
        }
      },
      "execution_count": null,
      "outputs": [
        {
          "output_type": "execute_result",
          "data": {
            "text/plain": [
              "   COSMIC_ID CELL_LINE_NAME     TCGA_DESC  DRUG_ID     DRUG_NAME   LN_IC50  \\\n",
              "0     683667         PFSK-1            MB     1003  Camptothecin -1.463887   \n",
              "1     684057            ES5  UNCLASSIFIED     1003  Camptothecin -3.360586   \n",
              "2     684059            ES7  UNCLASSIFIED     1003  Camptothecin -5.044940   \n",
              "3     684062          EW-11  UNCLASSIFIED     1003  Camptothecin -3.741991   \n",
              "4     684072        SK-ES-1  UNCLASSIFIED     1003  Camptothecin -5.142961   \n",
              "\n",
              "        AUC   Z_SCORE GDSC Tissue descriptor 1 GDSC Tissue descriptor 2  \\\n",
              "0  0.930220  0.433123           nervous_system          medulloblastoma   \n",
              "1  0.791072 -0.599569                     bone           ewings_sarcoma   \n",
              "2  0.592660 -1.516647                     bone           ewings_sarcoma   \n",
              "3  0.734047 -0.807232                     bone           ewings_sarcoma   \n",
              "4  0.582439 -1.570016                     bone           ewings_sarcoma   \n",
              "\n",
              "  Cancer Type (matching TCGA label) Microsatellite instability Status (MSI)  \\\n",
              "0                                MB                               MSS/MSI-L   \n",
              "1                               NaN                               MSS/MSI-L   \n",
              "2                               NaN                               MSS/MSI-L   \n",
              "3                               NaN                               MSS/MSI-L   \n",
              "4                               NaN                               MSS/MSI-L   \n",
              "\n",
              "  Screen Medium Growth Properties CNA Gene Expression Methylation TARGET  \\\n",
              "0             R          Adherent   Y               Y           Y   TOP1   \n",
              "1             R          Adherent   Y               Y           Y   TOP1   \n",
              "2             R          Adherent   Y               Y           Y   TOP1   \n",
              "3             R          Adherent   Y               Y           Y   TOP1   \n",
              "4             R     Semi-Adherent   Y               Y           Y   TOP1   \n",
              "\n",
              "    TARGET_PATHWAY  \n",
              "0  DNA replication  \n",
              "1  DNA replication  \n",
              "2  DNA replication  \n",
              "3  DNA replication  \n",
              "4  DNA replication  "
            ],
            "text/html": [
              "\n",
              "  <div id=\"df-a77ecba1-8f27-49f5-94fe-8ca2ba3d3718\" class=\"colab-df-container\">\n",
              "    <div>\n",
              "<style scoped>\n",
              "    .dataframe tbody tr th:only-of-type {\n",
              "        vertical-align: middle;\n",
              "    }\n",
              "\n",
              "    .dataframe tbody tr th {\n",
              "        vertical-align: top;\n",
              "    }\n",
              "\n",
              "    .dataframe thead th {\n",
              "        text-align: right;\n",
              "    }\n",
              "</style>\n",
              "<table border=\"1\" class=\"dataframe\">\n",
              "  <thead>\n",
              "    <tr style=\"text-align: right;\">\n",
              "      <th></th>\n",
              "      <th>COSMIC_ID</th>\n",
              "      <th>CELL_LINE_NAME</th>\n",
              "      <th>TCGA_DESC</th>\n",
              "      <th>DRUG_ID</th>\n",
              "      <th>DRUG_NAME</th>\n",
              "      <th>LN_IC50</th>\n",
              "      <th>AUC</th>\n",
              "      <th>Z_SCORE</th>\n",
              "      <th>GDSC Tissue descriptor 1</th>\n",
              "      <th>GDSC Tissue descriptor 2</th>\n",
              "      <th>Cancer Type (matching TCGA label)</th>\n",
              "      <th>Microsatellite instability Status (MSI)</th>\n",
              "      <th>Screen Medium</th>\n",
              "      <th>Growth Properties</th>\n",
              "      <th>CNA</th>\n",
              "      <th>Gene Expression</th>\n",
              "      <th>Methylation</th>\n",
              "      <th>TARGET</th>\n",
              "      <th>TARGET_PATHWAY</th>\n",
              "    </tr>\n",
              "  </thead>\n",
              "  <tbody>\n",
              "    <tr>\n",
              "      <th>0</th>\n",
              "      <td>683667</td>\n",
              "      <td>PFSK-1</td>\n",
              "      <td>MB</td>\n",
              "      <td>1003</td>\n",
              "      <td>Camptothecin</td>\n",
              "      <td>-1.463887</td>\n",
              "      <td>0.930220</td>\n",
              "      <td>0.433123</td>\n",
              "      <td>nervous_system</td>\n",
              "      <td>medulloblastoma</td>\n",
              "      <td>MB</td>\n",
              "      <td>MSS/MSI-L</td>\n",
              "      <td>R</td>\n",
              "      <td>Adherent</td>\n",
              "      <td>Y</td>\n",
              "      <td>Y</td>\n",
              "      <td>Y</td>\n",
              "      <td>TOP1</td>\n",
              "      <td>DNA replication</td>\n",
              "    </tr>\n",
              "    <tr>\n",
              "      <th>1</th>\n",
              "      <td>684057</td>\n",
              "      <td>ES5</td>\n",
              "      <td>UNCLASSIFIED</td>\n",
              "      <td>1003</td>\n",
              "      <td>Camptothecin</td>\n",
              "      <td>-3.360586</td>\n",
              "      <td>0.791072</td>\n",
              "      <td>-0.599569</td>\n",
              "      <td>bone</td>\n",
              "      <td>ewings_sarcoma</td>\n",
              "      <td>NaN</td>\n",
              "      <td>MSS/MSI-L</td>\n",
              "      <td>R</td>\n",
              "      <td>Adherent</td>\n",
              "      <td>Y</td>\n",
              "      <td>Y</td>\n",
              "      <td>Y</td>\n",
              "      <td>TOP1</td>\n",
              "      <td>DNA replication</td>\n",
              "    </tr>\n",
              "    <tr>\n",
              "      <th>2</th>\n",
              "      <td>684059</td>\n",
              "      <td>ES7</td>\n",
              "      <td>UNCLASSIFIED</td>\n",
              "      <td>1003</td>\n",
              "      <td>Camptothecin</td>\n",
              "      <td>-5.044940</td>\n",
              "      <td>0.592660</td>\n",
              "      <td>-1.516647</td>\n",
              "      <td>bone</td>\n",
              "      <td>ewings_sarcoma</td>\n",
              "      <td>NaN</td>\n",
              "      <td>MSS/MSI-L</td>\n",
              "      <td>R</td>\n",
              "      <td>Adherent</td>\n",
              "      <td>Y</td>\n",
              "      <td>Y</td>\n",
              "      <td>Y</td>\n",
              "      <td>TOP1</td>\n",
              "      <td>DNA replication</td>\n",
              "    </tr>\n",
              "    <tr>\n",
              "      <th>3</th>\n",
              "      <td>684062</td>\n",
              "      <td>EW-11</td>\n",
              "      <td>UNCLASSIFIED</td>\n",
              "      <td>1003</td>\n",
              "      <td>Camptothecin</td>\n",
              "      <td>-3.741991</td>\n",
              "      <td>0.734047</td>\n",
              "      <td>-0.807232</td>\n",
              "      <td>bone</td>\n",
              "      <td>ewings_sarcoma</td>\n",
              "      <td>NaN</td>\n",
              "      <td>MSS/MSI-L</td>\n",
              "      <td>R</td>\n",
              "      <td>Adherent</td>\n",
              "      <td>Y</td>\n",
              "      <td>Y</td>\n",
              "      <td>Y</td>\n",
              "      <td>TOP1</td>\n",
              "      <td>DNA replication</td>\n",
              "    </tr>\n",
              "    <tr>\n",
              "      <th>4</th>\n",
              "      <td>684072</td>\n",
              "      <td>SK-ES-1</td>\n",
              "      <td>UNCLASSIFIED</td>\n",
              "      <td>1003</td>\n",
              "      <td>Camptothecin</td>\n",
              "      <td>-5.142961</td>\n",
              "      <td>0.582439</td>\n",
              "      <td>-1.570016</td>\n",
              "      <td>bone</td>\n",
              "      <td>ewings_sarcoma</td>\n",
              "      <td>NaN</td>\n",
              "      <td>MSS/MSI-L</td>\n",
              "      <td>R</td>\n",
              "      <td>Semi-Adherent</td>\n",
              "      <td>Y</td>\n",
              "      <td>Y</td>\n",
              "      <td>Y</td>\n",
              "      <td>TOP1</td>\n",
              "      <td>DNA replication</td>\n",
              "    </tr>\n",
              "  </tbody>\n",
              "</table>\n",
              "</div>\n",
              "    <div class=\"colab-df-buttons\">\n",
              "\n",
              "  <div class=\"colab-df-container\">\n",
              "    <button class=\"colab-df-convert\" onclick=\"convertToInteractive('df-a77ecba1-8f27-49f5-94fe-8ca2ba3d3718')\"\n",
              "            title=\"Convert this dataframe to an interactive table.\"\n",
              "            style=\"display:none;\">\n",
              "\n",
              "  <svg xmlns=\"http://www.w3.org/2000/svg\" height=\"24px\" viewBox=\"0 -960 960 960\">\n",
              "    <path d=\"M120-120v-720h720v720H120Zm60-500h600v-160H180v160Zm220 220h160v-160H400v160Zm0 220h160v-160H400v160ZM180-400h160v-160H180v160Zm440 0h160v-160H620v160ZM180-180h160v-160H180v160Zm440 0h160v-160H620v160Z\"/>\n",
              "  </svg>\n",
              "    </button>\n",
              "\n",
              "  <style>\n",
              "    .colab-df-container {\n",
              "      display:flex;\n",
              "      gap: 12px;\n",
              "    }\n",
              "\n",
              "    .colab-df-convert {\n",
              "      background-color: #E8F0FE;\n",
              "      border: none;\n",
              "      border-radius: 50%;\n",
              "      cursor: pointer;\n",
              "      display: none;\n",
              "      fill: #1967D2;\n",
              "      height: 32px;\n",
              "      padding: 0 0 0 0;\n",
              "      width: 32px;\n",
              "    }\n",
              "\n",
              "    .colab-df-convert:hover {\n",
              "      background-color: #E2EBFA;\n",
              "      box-shadow: 0px 1px 2px rgba(60, 64, 67, 0.3), 0px 1px 3px 1px rgba(60, 64, 67, 0.15);\n",
              "      fill: #174EA6;\n",
              "    }\n",
              "\n",
              "    .colab-df-buttons div {\n",
              "      margin-bottom: 4px;\n",
              "    }\n",
              "\n",
              "    [theme=dark] .colab-df-convert {\n",
              "      background-color: #3B4455;\n",
              "      fill: #D2E3FC;\n",
              "    }\n",
              "\n",
              "    [theme=dark] .colab-df-convert:hover {\n",
              "      background-color: #434B5C;\n",
              "      box-shadow: 0px 1px 3px 1px rgba(0, 0, 0, 0.15);\n",
              "      filter: drop-shadow(0px 1px 2px rgba(0, 0, 0, 0.3));\n",
              "      fill: #FFFFFF;\n",
              "    }\n",
              "  </style>\n",
              "\n",
              "    <script>\n",
              "      const buttonEl =\n",
              "        document.querySelector('#df-a77ecba1-8f27-49f5-94fe-8ca2ba3d3718 button.colab-df-convert');\n",
              "      buttonEl.style.display =\n",
              "        google.colab.kernel.accessAllowed ? 'block' : 'none';\n",
              "\n",
              "      async function convertToInteractive(key) {\n",
              "        const element = document.querySelector('#df-a77ecba1-8f27-49f5-94fe-8ca2ba3d3718');\n",
              "        const dataTable =\n",
              "          await google.colab.kernel.invokeFunction('convertToInteractive',\n",
              "                                                    [key], {});\n",
              "        if (!dataTable) return;\n",
              "\n",
              "        const docLinkHtml = 'Like what you see? Visit the ' +\n",
              "          '<a target=\"_blank\" href=https://colab.research.google.com/notebooks/data_table.ipynb>data table notebook</a>'\n",
              "          + ' to learn more about interactive tables.';\n",
              "        element.innerHTML = '';\n",
              "        dataTable['output_type'] = 'display_data';\n",
              "        await google.colab.output.renderOutput(dataTable, element);\n",
              "        const docLink = document.createElement('div');\n",
              "        docLink.innerHTML = docLinkHtml;\n",
              "        element.appendChild(docLink);\n",
              "      }\n",
              "    </script>\n",
              "  </div>\n",
              "\n",
              "\n",
              "<div id=\"df-618e9760-d4ac-4bb7-8e93-bb048b382002\">\n",
              "  <button class=\"colab-df-quickchart\" onclick=\"quickchart('df-618e9760-d4ac-4bb7-8e93-bb048b382002')\"\n",
              "            title=\"Suggest charts\"\n",
              "            style=\"display:none;\">\n",
              "\n",
              "<svg xmlns=\"http://www.w3.org/2000/svg\" height=\"24px\"viewBox=\"0 0 24 24\"\n",
              "     width=\"24px\">\n",
              "    <g>\n",
              "        <path d=\"M19 3H5c-1.1 0-2 .9-2 2v14c0 1.1.9 2 2 2h14c1.1 0 2-.9 2-2V5c0-1.1-.9-2-2-2zM9 17H7v-7h2v7zm4 0h-2V7h2v10zm4 0h-2v-4h2v4z\"/>\n",
              "    </g>\n",
              "</svg>\n",
              "  </button>\n",
              "\n",
              "<style>\n",
              "  .colab-df-quickchart {\n",
              "      --bg-color: #E8F0FE;\n",
              "      --fill-color: #1967D2;\n",
              "      --hover-bg-color: #E2EBFA;\n",
              "      --hover-fill-color: #174EA6;\n",
              "      --disabled-fill-color: #AAA;\n",
              "      --disabled-bg-color: #DDD;\n",
              "  }\n",
              "\n",
              "  [theme=dark] .colab-df-quickchart {\n",
              "      --bg-color: #3B4455;\n",
              "      --fill-color: #D2E3FC;\n",
              "      --hover-bg-color: #434B5C;\n",
              "      --hover-fill-color: #FFFFFF;\n",
              "      --disabled-bg-color: #3B4455;\n",
              "      --disabled-fill-color: #666;\n",
              "  }\n",
              "\n",
              "  .colab-df-quickchart {\n",
              "    background-color: var(--bg-color);\n",
              "    border: none;\n",
              "    border-radius: 50%;\n",
              "    cursor: pointer;\n",
              "    display: none;\n",
              "    fill: var(--fill-color);\n",
              "    height: 32px;\n",
              "    padding: 0;\n",
              "    width: 32px;\n",
              "  }\n",
              "\n",
              "  .colab-df-quickchart:hover {\n",
              "    background-color: var(--hover-bg-color);\n",
              "    box-shadow: 0 1px 2px rgba(60, 64, 67, 0.3), 0 1px 3px 1px rgba(60, 64, 67, 0.15);\n",
              "    fill: var(--button-hover-fill-color);\n",
              "  }\n",
              "\n",
              "  .colab-df-quickchart-complete:disabled,\n",
              "  .colab-df-quickchart-complete:disabled:hover {\n",
              "    background-color: var(--disabled-bg-color);\n",
              "    fill: var(--disabled-fill-color);\n",
              "    box-shadow: none;\n",
              "  }\n",
              "\n",
              "  .colab-df-spinner {\n",
              "    border: 2px solid var(--fill-color);\n",
              "    border-color: transparent;\n",
              "    border-bottom-color: var(--fill-color);\n",
              "    animation:\n",
              "      spin 1s steps(1) infinite;\n",
              "  }\n",
              "\n",
              "  @keyframes spin {\n",
              "    0% {\n",
              "      border-color: transparent;\n",
              "      border-bottom-color: var(--fill-color);\n",
              "      border-left-color: var(--fill-color);\n",
              "    }\n",
              "    20% {\n",
              "      border-color: transparent;\n",
              "      border-left-color: var(--fill-color);\n",
              "      border-top-color: var(--fill-color);\n",
              "    }\n",
              "    30% {\n",
              "      border-color: transparent;\n",
              "      border-left-color: var(--fill-color);\n",
              "      border-top-color: var(--fill-color);\n",
              "      border-right-color: var(--fill-color);\n",
              "    }\n",
              "    40% {\n",
              "      border-color: transparent;\n",
              "      border-right-color: var(--fill-color);\n",
              "      border-top-color: var(--fill-color);\n",
              "    }\n",
              "    60% {\n",
              "      border-color: transparent;\n",
              "      border-right-color: var(--fill-color);\n",
              "    }\n",
              "    80% {\n",
              "      border-color: transparent;\n",
              "      border-right-color: var(--fill-color);\n",
              "      border-bottom-color: var(--fill-color);\n",
              "    }\n",
              "    90% {\n",
              "      border-color: transparent;\n",
              "      border-bottom-color: var(--fill-color);\n",
              "    }\n",
              "  }\n",
              "</style>\n",
              "\n",
              "  <script>\n",
              "    async function quickchart(key) {\n",
              "      const quickchartButtonEl =\n",
              "        document.querySelector('#' + key + ' button');\n",
              "      quickchartButtonEl.disabled = true;  // To prevent multiple clicks.\n",
              "      quickchartButtonEl.classList.add('colab-df-spinner');\n",
              "      try {\n",
              "        const charts = await google.colab.kernel.invokeFunction(\n",
              "            'suggestCharts', [key], {});\n",
              "      } catch (error) {\n",
              "        console.error('Error during call to suggestCharts:', error);\n",
              "      }\n",
              "      quickchartButtonEl.classList.remove('colab-df-spinner');\n",
              "      quickchartButtonEl.classList.add('colab-df-quickchart-complete');\n",
              "    }\n",
              "    (() => {\n",
              "      let quickchartButtonEl =\n",
              "        document.querySelector('#df-618e9760-d4ac-4bb7-8e93-bb048b382002 button');\n",
              "      quickchartButtonEl.style.display =\n",
              "        google.colab.kernel.accessAllowed ? 'block' : 'none';\n",
              "    })();\n",
              "  </script>\n",
              "</div>\n",
              "\n",
              "    </div>\n",
              "  </div>\n"
            ],
            "application/vnd.google.colaboratory.intrinsic+json": {
              "type": "dataframe",
              "variable_name": "gdsc_data_raw"
            }
          },
          "metadata": {},
          "execution_count": 4
        }
      ]
    },
    {
      "cell_type": "code",
      "source": [
        "gdsc_data_raw.shape"
      ],
      "metadata": {
        "colab": {
          "base_uri": "https://localhost:8080/"
        },
        "id": "sQiu0vzIoMcf",
        "outputId": "ea17e05b-0dd0-406b-b9f4-c61aced71423"
      },
      "execution_count": null,
      "outputs": [
        {
          "output_type": "execute_result",
          "data": {
            "text/plain": [
              "(242035, 19)"
            ]
          },
          "metadata": {},
          "execution_count": 5
        }
      ]
    },
    {
      "cell_type": "code",
      "source": [
        "# Screen Medium\n",
        "gdsc_data['Screen Medium'].fillna(gdsc_data['Screen Medium'].mode, inplace=True)"
      ],
      "metadata": {
        "id": "BFijNioz9iHk"
      },
      "execution_count": null,
      "outputs": []
    },
    {
      "cell_type": "code",
      "source": [
        "gdsc_data.dropna(axis=0, inplace=True)"
      ],
      "metadata": {
        "id": "lTYlLTQM-0Bi"
      },
      "execution_count": null,
      "outputs": []
    },
    {
      "cell_type": "code",
      "source": [
        "gdsc_data.shape"
      ],
      "metadata": {
        "colab": {
          "base_uri": "https://localhost:8080/"
        },
        "id": "Q5OXRY3gBPRY",
        "outputId": "de8f7d0d-6090-40c7-878b-75e66722ab1f"
      },
      "execution_count": null,
      "outputs": [
        {
          "output_type": "execute_result",
          "data": {
            "text/plain": [
              "(166644, 19)"
            ]
          },
          "metadata": {},
          "execution_count": 8
        }
      ]
    },
    {
      "cell_type": "code",
      "source": [
        "gdsc_data.drop(gdsc_data[gdsc_data['Cancer Type (matching TCGA label)'] == \"UNABLE TO CLASSIFY\"].index, inplace=True)"
      ],
      "metadata": {
        "id": "DJUjczXAiU0Q"
      },
      "execution_count": null,
      "outputs": []
    },
    {
      "cell_type": "code",
      "source": [
        "gdsc_data.drop(gdsc_data[gdsc_data['TARGET_PATHWAY'] == \"Unclassified\"].index, inplace=True)"
      ],
      "metadata": {
        "id": "9F4lM-Ko-tYE"
      },
      "execution_count": null,
      "outputs": []
    },
    {
      "cell_type": "code",
      "source": [
        "from sklearn.preprocessing import LabelEncoder\n",
        "le = LabelEncoder()"
      ],
      "metadata": {
        "id": "-svgJJ3kKedm"
      },
      "execution_count": null,
      "outputs": []
    },
    {
      "cell_type": "code",
      "source": [
        "# CELL_LINE_NAME\n",
        "cell_line_categorical_features = gdsc_data['CELL_LINE_NAME']\n",
        "le.fit(cell_line_categorical_features)\n",
        "cell_line_numerical_features = le.transform(cell_line_categorical_features)\n",
        "for i in range(len(cell_line_numerical_features)):\n",
        "    gdsc_data['CELL_LINE_NAME'] = cell_line_numerical_features[i]\n",
        "\n",
        "# TCGA_DESC\n",
        "TCGA_DESC_categorical_features = gdsc_data['TCGA_DESC']\n",
        "le.fit(TCGA_DESC_categorical_features)\n",
        "TCGA_DESC_numerical_features = le.transform(TCGA_DESC_categorical_features)\n",
        "for i in range(len(TCGA_DESC_numerical_features)):\n",
        "    gdsc_data['TCGA_DESC'] = int(TCGA_DESC_numerical_features[i])\n",
        "\n",
        "# DRUG_NAME\n",
        "DRUG_NAME_categorical_features = gdsc_data['DRUG_NAME']\n",
        "le.fit(DRUG_NAME_categorical_features)\n",
        "DRUG_NAME_numerical_features = le.transform(DRUG_NAME_categorical_features)\n",
        "for i in range(len(DRUG_NAME_numerical_features)):\n",
        "    gdsc_data['DRUG_NAME'] = DRUG_NAME_numerical_features[i]\n",
        "\n",
        "# GDSC Tissue descriptor 1\n",
        "tissue_one_categorical_features = gdsc_data['GDSC Tissue descriptor 1']\n",
        "le.fit(tissue_one_categorical_features)\n",
        "tissue_one_numerical_features = le.transform(tissue_one_categorical_features)\n",
        "for i in range(len(tissue_one_numerical_features)):\n",
        "    gdsc_data['GDSC Tissue descriptor 1'] = tissue_one_numerical_features[i]\n",
        "\n",
        "# GDSC Tissue descriptor 2\n",
        "tissue_two_categorical_features = gdsc_data['GDSC Tissue descriptor 2']\n",
        "le.fit(tissue_two_categorical_features)\n",
        "tissue_two_numerical_features = le.transform(tissue_two_categorical_features)\n",
        "for i in range(len(tissue_two_numerical_features)):\n",
        "    gdsc_data['GDSC Tissue descriptor 2'] = tissue_two_numerical_features[i]\n",
        "\n",
        "# Cancer Type (matching TCGA label)\n",
        "cancer_type_categorical_features = gdsc_data['Cancer Type (matching TCGA label)']\n",
        "le.fit(cancer_type_categorical_features)\n",
        "cancer_type_numerical_features = le.transform(cancer_type_categorical_features)\n",
        "for i in range(len(cancer_type_numerical_features)):\n",
        "    gdsc_data['Cancer Type (matching TCGA label)'] = cancer_type_numerical_features[i]\n",
        "\n",
        "# Microsatellite instability Status (MSI)\n",
        "msi_categorical_features = gdsc_data['Microsatellite instability Status (MSI)']\n",
        "le.fit(msi_categorical_features)\n",
        "msi_numerical_features = le.transform(msi_categorical_features)\n",
        "for i in range(len(msi_numerical_features)):\n",
        "    gdsc_data['Microsatellite instability Status (MSI)'] = msi_numerical_features[i]\n",
        "\n",
        "# Screen Medium\n",
        "screen_medium_categorical_features = gdsc_data['Screen Medium']\n",
        "le.fit(screen_medium_categorical_features)\n",
        "screen_medium_numerical_features = le.transform(screen_medium_categorical_features)\n",
        "for i in range(len(screen_medium_numerical_features)):\n",
        "    gdsc_data['Screen Medium'] = screen_medium_numerical_features[i]\n",
        "\n",
        "# Growth Properties\n",
        "growth_prop_categorical_features = gdsc_data['Growth Properties']\n",
        "le.fit(growth_prop_categorical_features)\n",
        "growth_prop_numerical_features = le.transform(growth_prop_categorical_features)\n",
        "for i in range(len(growth_prop_numerical_features)):\n",
        "    gdsc_data['Growth Properties'] = growth_prop_numerical_features[i]\n",
        "\n",
        "# CNA\n",
        "CNA_categorical_features = gdsc_data['CNA']\n",
        "le.fit(CNA_categorical_features)\n",
        "CNA_numerical_features = le.transform(CNA_categorical_features)\n",
        "for i in range(len(CNA_numerical_features)):\n",
        "    gdsc_data['CNA'] = CNA_numerical_features[i]\n",
        "\n",
        "# Gene Expression\n",
        "gene_exp_categorical_features = gdsc_data['Gene Expression']\n",
        "le.fit(gene_exp_categorical_features)\n",
        "gene_exp_numerical_features = le.transform(gene_exp_categorical_features)\n",
        "for i in range(len(gene_exp_numerical_features)):\n",
        "    gdsc_data['Gene Expression'] = gene_exp_numerical_features[i]\n",
        "\n",
        "# Methylation\n",
        "methylation_categorical_features = gdsc_data['Methylation']\n",
        "le.fit(methylation_categorical_features)\n",
        "methylation_numerical_features = le.transform(methylation_categorical_features)\n",
        "for i in range(len(methylation_numerical_features)):\n",
        "    gdsc_data['Methylation'] = methylation_numerical_features[i]\n",
        "\n",
        "# TARGET\n",
        "target_categorical_features = gdsc_data['TARGET']\n",
        "le.fit(target_categorical_features)\n",
        "target_numerical_features = le.transform(target_categorical_features)\n",
        "for i in range(len(target_numerical_features)):\n",
        "    gdsc_data['TARGET'] = target_numerical_features[i]\n",
        "\n",
        "# TARGET_PATHWAY\n",
        "target_pathway_categorical_features = gdsc_data['TARGET_PATHWAY']\n",
        "le.fit(target_pathway_categorical_features)\n",
        "target_pathway_numerical_features = le.transform(target_pathway_categorical_features)\n",
        "for i in range(len(target_pathway_numerical_features)):\n",
        "    gdsc_data['TARGET_PATHWAY'] = target_pathway_numerical_features[i]\n"
      ],
      "metadata": {
        "id": "tm5UcYwPKfYx"
      },
      "execution_count": null,
      "outputs": []
    },
    {
      "cell_type": "code",
      "execution_count": null,
      "metadata": {
        "id": "qKL4JPKdk61G"
      },
      "outputs": [],
      "source": [
        "IC50_array_new = []\n",
        "IC50_array_old = gdsc_data['LN_IC50']\n",
        "\n",
        "for i in range(len(IC50_array_old)):\n",
        "    if IC50_array_old.iloc[i] < 2.36:\n",
        "      IC50_array_new.append(\"high responsiveness\")\n",
        "    elif IC50_array_old.iloc[i] >= 2.36 and IC50_array_old.iloc[i] <= 5.26:\n",
        "      IC50_array_new.append(\"intermediate responsiveness\")\n",
        "    else:\n",
        "      IC50_array_new.append(\"low responsiveness\")\n",
        "\n",
        "gdsc_data['LN_IC50'] = IC50_array_new"
      ]
    },
    {
      "cell_type": "code",
      "source": [
        "dropped_columns = ['LN_IC50', 'COSMIC_ID']\n",
        "X = gdsc_data.drop(columns=dropped_columns, axis=1)"
      ],
      "metadata": {
        "id": "k5Jn6f_ZiNag"
      },
      "execution_count": null,
      "outputs": []
    },
    {
      "cell_type": "code",
      "source": [
        "y = gdsc_data['LN_IC50']"
      ],
      "metadata": {
        "id": "PF5ltSrWiJgv"
      },
      "execution_count": null,
      "outputs": []
    },
    {
      "cell_type": "code",
      "source": [
        "print(X.shape)\n",
        "print(y.shape)"
      ],
      "metadata": {
        "colab": {
          "base_uri": "https://localhost:8080/"
        },
        "id": "6RyRDBNojoS6",
        "outputId": "a501159b-455c-40c8-cd7e-2078ce3bad41"
      },
      "execution_count": null,
      "outputs": [
        {
          "output_type": "stream",
          "name": "stdout",
          "text": [
            "(163230, 17)\n",
            "(163230,)\n"
          ]
        }
      ]
    },
    {
      "cell_type": "code",
      "source": [
        "X_train, X_test, y_train, y_test = train_test_split(X, y, shuffle=True, random_state=42)"
      ],
      "metadata": {
        "id": "31drPOhBCCNX"
      },
      "execution_count": null,
      "outputs": []
    },
    {
      "cell_type": "code",
      "source": [
        "print(X_train.shape)\n",
        "print(y_train.shape)\n",
        "print(X_test.shape)\n",
        "print(y_test.shape)"
      ],
      "metadata": {
        "colab": {
          "base_uri": "https://localhost:8080/"
        },
        "id": "50MRm6H3jvre",
        "outputId": "a474f848-8d4a-4921-a14b-3769eca93e87"
      },
      "execution_count": null,
      "outputs": [
        {
          "output_type": "stream",
          "name": "stdout",
          "text": [
            "(122422, 17)\n",
            "(122422,)\n",
            "(40808, 17)\n",
            "(40808,)\n"
          ]
        }
      ]
    },
    {
      "cell_type": "code",
      "source": [
        "from sklearn.linear_model import LogisticRegression\n",
        "from sklearn.metrics import accuracy_score\n",
        "\n",
        "logistic_model = LogisticRegression(max_iter=1000)\n",
        "logistic_model.fit(X_train, y_train)\n",
        "logistic_predictions = logistic_model.predict(X_test)\n",
        "score = accuracy_score(y_test, logistic_predictions)\n",
        "print(\"Logistic Regression Model Accuracy: \", score)"
      ],
      "metadata": {
        "colab": {
          "base_uri": "https://localhost:8080/"
        },
        "id": "P8ig4gJcG9kG",
        "outputId": "80f676c9-5b54-4a68-832e-1d5a6437ac72"
      },
      "execution_count": null,
      "outputs": [
        {
          "output_type": "stream",
          "name": "stdout",
          "text": [
            "Logistic Regression Model Accuracy:  0.7339737306410508\n"
          ]
        }
      ]
    },
    {
      "cell_type": "code",
      "source": [
        "from sklearn.linear_model import RidgeClassifier\n",
        "\n",
        "ridge_model = RidgeClassifier()\n",
        "ridge_model.fit(X_train, y_train)\n",
        "ridge_predictions = ridge_model.predict(X_test)\n",
        "score = accuracy_score(y_test, ridge_predictions)\n",
        "print(\"Ridge Classifier Model Accuracy: \", score)"
      ],
      "metadata": {
        "colab": {
          "base_uri": "https://localhost:8080/"
        },
        "id": "CfyCF4jsJIYa",
        "outputId": "36d82502-9b20-4705-b418-14c0830a10fa"
      },
      "execution_count": null,
      "outputs": [
        {
          "output_type": "stream",
          "name": "stdout",
          "text": [
            "Ridge Classifier Model Accuracy:  0.7112085865516565\n"
          ]
        }
      ]
    },
    {
      "cell_type": "code",
      "source": [
        "from sklearn.ensemble import RandomForestClassifier\n",
        "\n",
        "random_forest_model = RandomForestClassifier()\n",
        "random_forest_model.fit(X_train, y_train)\n",
        "forest_predictions = random_forest_model.predict(X_test)\n",
        "score = accuracy_score(y_test, forest_predictions)\n",
        "print(\"Random Forest Classifier Model Accuracy: \", score)"
      ],
      "metadata": {
        "colab": {
          "base_uri": "https://localhost:8080/"
        },
        "id": "t_2EBHSpJYa9",
        "outputId": "e462a8da-efc1-45ec-e0a0-6c1c99fa6f61"
      },
      "execution_count": null,
      "outputs": [
        {
          "output_type": "stream",
          "name": "stdout",
          "text": [
            "Random Forest Classifier Model Accuracy:  0.9116839835326407\n"
          ]
        }
      ]
    },
    {
      "cell_type": "code",
      "source": [
        "print(\"Logistic Regression Model Precision: \", sklearn.metrics.precision_score(y_test, logistic_predictions, average='macro'))\n",
        "print(\"Ridge Classifier Model Precision: \", sklearn.metrics.precision_score(y_test, ridge_predictions, average='macro'))\n",
        "print(\"Random Forest Classifier Model Precision: \", sklearn.metrics.precision_score(y_test, forest_predictions, average='macro'))"
      ],
      "metadata": {
        "colab": {
          "base_uri": "https://localhost:8080/"
        },
        "id": "mGW2LfQdc-SB",
        "outputId": "785d3266-ab93-4e9e-a8e9-ae5afed993f3"
      },
      "execution_count": null,
      "outputs": [
        {
          "output_type": "stream",
          "name": "stdout",
          "text": [
            "Logistic Regression Model Precision:  0.7087076835587504\n",
            "Ridge Classifier Model Precision:  0.7311071682566567\n",
            "Random Forest Classifier Model Precision:  0.9029373157005115\n"
          ]
        }
      ]
    },
    {
      "cell_type": "code",
      "source": [
        "print(\"Logistic Regression Model Recall: \", sklearn.metrics.recall_score(y_test, logistic_predictions, average='macro'))\n",
        "print(\"Ridge Classifier Model Recall: \", sklearn.metrics.recall_score(y_test, ridge_predictions, average='macro'))\n",
        "print(\"Random Forest Classifier Model Recall: \", sklearn.metrics.recall_score(y_test, forest_predictions, average='macro'))"
      ],
      "metadata": {
        "colab": {
          "base_uri": "https://localhost:8080/"
        },
        "id": "ltaAu7nmeerQ",
        "outputId": "324d419b-645b-4db4-a5f5-94a44e9ac42e"
      },
      "execution_count": null,
      "outputs": [
        {
          "output_type": "stream",
          "name": "stdout",
          "text": [
            "Logistic Regression Model Recall:  0.6532559004982798\n",
            "Ridge Classifier Model Recall:  0.587755131556542\n",
            "Random Forest Classifier Model Recall:  0.8978031327120819\n"
          ]
        }
      ]
    },
    {
      "cell_type": "code",
      "source": [
        "print(\"Logistic Regression Model F1 Score: \", sklearn.metrics.f1_score(y_test, logistic_predictions, average='macro'))\n",
        "print(\"Ridge Classifier Model F1 Score: \", sklearn.metrics.f1_score(y_test, ridge_predictions, average='macro'))\n",
        "print(\"Random Forest Classifier Model F1 Score: \", sklearn.metrics.f1_score(y_test, forest_predictions, average='macro'))"
      ],
      "metadata": {
        "colab": {
          "base_uri": "https://localhost:8080/"
        },
        "id": "qVVlBW2een8r",
        "outputId": "58403549-16cb-4e54-e412-5c263f57a20b"
      },
      "execution_count": null,
      "outputs": [
        {
          "output_type": "stream",
          "name": "stdout",
          "text": [
            "Logistic Regression Model F1 Score:  0.667188039766569\n",
            "Ridge Classifier Model F1 Score:  0.5911164933455871\n",
            "Random Forest Classifier Model F1 Score:  0.9001485540796227\n"
          ]
        }
      ]
    },
    {
      "cell_type": "code",
      "source": [
        "# Logistic Regression Confusion Matrix\n",
        "logistic_confusion_matrix = sklearn.metrics.confusion_matrix(y_test, logistic_predictions)\n",
        "sklearn.metrics.ConfusionMatrixDisplay(logistic_confusion_matrix).plot()\n",
        "plt.show"
      ],
      "metadata": {
        "colab": {
          "base_uri": "https://localhost:8080/",
          "height": 621
        },
        "id": "OhKoAqMLf-zJ",
        "outputId": "1f615acb-8ad2-4615-9326-d7117ccd9a9b"
      },
      "execution_count": null,
      "outputs": [
        {
          "output_type": "execute_result",
          "data": {
            "text/plain": [
              "<function matplotlib.pyplot.show(close=None, block=None)>"
            ],
            "text/html": [
              "<div style=\"max-width:800px; border: 1px solid var(--colab-border-color);\"><style>\n",
              "      pre.function-repr-contents {\n",
              "        overflow-x: auto;\n",
              "        padding: 8px 12px;\n",
              "        max-height: 500px;\n",
              "      }\n",
              "\n",
              "      pre.function-repr-contents.function-repr-contents-collapsed {\n",
              "        cursor: pointer;\n",
              "        max-height: 100px;\n",
              "      }\n",
              "    </style>\n",
              "    <pre style=\"white-space: initial; background:\n",
              "         var(--colab-secondary-surface-color); padding: 8px 12px;\n",
              "         border-bottom: 1px solid var(--colab-border-color);\"><b>matplotlib.pyplot.show</b><br/>def show(*args, **kwargs)</pre><pre class=\"function-repr-contents function-repr-contents-collapsed\" style=\"\"><a class=\"filepath\" style=\"display:none\" href=\"#\">/usr/local/lib/python3.10/dist-packages/matplotlib/pyplot.py</a>Display all open figures.\n",
              "\n",
              "Parameters\n",
              "----------\n",
              "block : bool, optional\n",
              "    Whether to wait for all figures to be closed before returning.\n",
              "\n",
              "    If `True` block and run the GUI main loop until all figure windows\n",
              "    are closed.\n",
              "\n",
              "    If `False` ensure that all figure windows are displayed and return\n",
              "    immediately.  In this case, you are responsible for ensuring\n",
              "    that the event loop is running to have responsive figures.\n",
              "\n",
              "    Defaults to True in non-interactive mode and to False in interactive\n",
              "    mode (see `.pyplot.isinteractive`).\n",
              "\n",
              "See Also\n",
              "--------\n",
              "ion : Enable interactive mode, which shows / updates the figure after\n",
              "      every plotting command, so that calling ``show()`` is not necessary.\n",
              "ioff : Disable interactive mode.\n",
              "savefig : Save the figure to an image file instead of showing it on screen.\n",
              "\n",
              "Notes\n",
              "-----\n",
              "**Saving figures to file and showing a window at the same time**\n",
              "\n",
              "If you want an image file as well as a user interface window, use\n",
              "`.pyplot.savefig` before `.pyplot.show`. At the end of (a blocking)\n",
              "``show()`` the figure is closed and thus unregistered from pyplot. Calling\n",
              "`.pyplot.savefig` afterwards would save a new and thus empty figure. This\n",
              "limitation of command order does not apply if the show is non-blocking or\n",
              "if you keep a reference to the figure and use `.Figure.savefig`.\n",
              "\n",
              "**Auto-show in jupyter notebooks**\n",
              "\n",
              "The jupyter backends (activated via ``%matplotlib inline``,\n",
              "``%matplotlib notebook``, or ``%matplotlib widget``), call ``show()`` at\n",
              "the end of every cell by default. Thus, you usually don&#x27;t have to call it\n",
              "explicitly there.</pre>\n",
              "      <script>\n",
              "      if (google.colab.kernel.accessAllowed && google.colab.files && google.colab.files.view) {\n",
              "        for (const element of document.querySelectorAll('.filepath')) {\n",
              "          element.style.display = 'block'\n",
              "          element.onclick = (event) => {\n",
              "            event.preventDefault();\n",
              "            event.stopPropagation();\n",
              "            google.colab.files.view(element.textContent, 401);\n",
              "          };\n",
              "        }\n",
              "      }\n",
              "      for (const element of document.querySelectorAll('.function-repr-contents')) {\n",
              "        element.onclick = (event) => {\n",
              "          event.preventDefault();\n",
              "          event.stopPropagation();\n",
              "          element.classList.toggle('function-repr-contents-collapsed');\n",
              "        };\n",
              "      }\n",
              "      </script>\n",
              "      </div>"
            ]
          },
          "metadata": {},
          "execution_count": 35
        },
        {
          "output_type": "display_data",
          "data": {
            "text/plain": [
              "<Figure size 640x480 with 2 Axes>"
            ],
            "image/png": "[encoded data removed]"
          },
          "metadata": {}
        }
      ]
    },
    {
      "cell_type": "code",
      "source": [
        "# Ridge Classifier Confusion Matrix\n",
        "ridge_confusion_matrix = sklearn.metrics.confusion_matrix(y_test, ridge_predictions)\n",
        "sklearn.metrics.ConfusionMatrixDisplay(ridge_confusion_matrix).plot()\n",
        "plt.show"
      ],
      "metadata": {
        "colab": {
          "base_uri": "https://localhost:8080/",
          "height": 618
        },
        "id": "H4e0-MHIhTeb",
        "outputId": "f251d2c5-af32-407e-c883-efe27c4a26e3"
      },
      "execution_count": null,
      "outputs": [
        {
          "output_type": "execute_result",
          "data": {
            "text/plain": [
              "<function matplotlib.pyplot.show(close=None, block=None)>"
            ],
            "text/html": [
              "<div style=\"max-width:800px; border: 1px solid var(--colab-border-color);\"><style>\n",
              "      pre.function-repr-contents {\n",
              "        overflow-x: auto;\n",
              "        padding: 8px 12px;\n",
              "        max-height: 500px;\n",
              "      }\n",
              "\n",
              "      pre.function-repr-contents.function-repr-contents-collapsed {\n",
              "        cursor: pointer;\n",
              "        max-height: 100px;\n",
              "      }\n",
              "    </style>\n",
              "    <pre style=\"white-space: initial; background:\n",
              "         var(--colab-secondary-surface-color); padding: 8px 12px;\n",
              "         border-bottom: 1px solid var(--colab-border-color);\"><b>matplotlib.pyplot.show</b><br/>def show(*args, **kwargs)</pre><pre class=\"function-repr-contents function-repr-contents-collapsed\" style=\"\"><a class=\"filepath\" style=\"display:none\" href=\"#\">/usr/local/lib/python3.10/dist-packages/matplotlib/pyplot.py</a>Display all open figures.\n",
              "\n",
              "Parameters\n",
              "----------\n",
              "block : bool, optional\n",
              "    Whether to wait for all figures to be closed before returning.\n",
              "\n",
              "    If `True` block and run the GUI main loop until all figure windows\n",
              "    are closed.\n",
              "\n",
              "    If `False` ensure that all figure windows are displayed and return\n",
              "    immediately.  In this case, you are responsible for ensuring\n",
              "    that the event loop is running to have responsive figures.\n",
              "\n",
              "    Defaults to True in non-interactive mode and to False in interactive\n",
              "    mode (see `.pyplot.isinteractive`).\n",
              "\n",
              "See Also\n",
              "--------\n",
              "ion : Enable interactive mode, which shows / updates the figure after\n",
              "      every plotting command, so that calling ``show()`` is not necessary.\n",
              "ioff : Disable interactive mode.\n",
              "savefig : Save the figure to an image file instead of showing it on screen.\n",
              "\n",
              "Notes\n",
              "-----\n",
              "**Saving figures to file and showing a window at the same time**\n",
              "\n",
              "If you want an image file as well as a user interface window, use\n",
              "`.pyplot.savefig` before `.pyplot.show`. At the end of (a blocking)\n",
              "``show()`` the figure is closed and thus unregistered from pyplot. Calling\n",
              "`.pyplot.savefig` afterwards would save a new and thus empty figure. This\n",
              "limitation of command order does not apply if the show is non-blocking or\n",
              "if you keep a reference to the figure and use `.Figure.savefig`.\n",
              "\n",
              "**Auto-show in jupyter notebooks**\n",
              "\n",
              "The jupyter backends (activated via ``%matplotlib inline``,\n",
              "``%matplotlib notebook``, or ``%matplotlib widget``), call ``show()`` at\n",
              "the end of every cell by default. Thus, you usually don&#x27;t have to call it\n",
              "explicitly there.</pre>\n",
              "      <script>\n",
              "      if (google.colab.kernel.accessAllowed && google.colab.files && google.colab.files.view) {\n",
              "        for (const element of document.querySelectorAll('.filepath')) {\n",
              "          element.style.display = 'block'\n",
              "          element.onclick = (event) => {\n",
              "            event.preventDefault();\n",
              "            event.stopPropagation();\n",
              "            google.colab.files.view(element.textContent, 401);\n",
              "          };\n",
              "        }\n",
              "      }\n",
              "      for (const element of document.querySelectorAll('.function-repr-contents')) {\n",
              "        element.onclick = (event) => {\n",
              "          event.preventDefault();\n",
              "          event.stopPropagation();\n",
              "          element.classList.toggle('function-repr-contents-collapsed');\n",
              "        };\n",
              "      }\n",
              "      </script>\n",
              "      </div>"
            ]
          },
          "metadata": {},
          "execution_count": 36
        },
        {
          "output_type": "display_data",
          "data": {
            "text/plain": [
              "<Figure size 640x480 with 2 Axes>"
            ],
            "image/png": "[encoded data removed]"
          },
          "metadata": {}
        }
      ]
    },
    {
      "cell_type": "code",
      "source": [
        "# Random Forest Classifier Confusion Matrix\n",
        "forest_confusion_matrix = sklearn.metrics.confusion_matrix(y_test, forest_predictions)\n",
        "sklearn.metrics.ConfusionMatrixDisplay(forest_confusion_matrix).plot()\n",
        "plt.show"
      ],
      "metadata": {
        "colab": {
          "base_uri": "https://localhost:8080/",
          "height": 618
        },
        "id": "nFD2cLVyhlR-",
        "outputId": "7e567cb7-a4cc-40c5-b566-1eff2df5b284"
      },
      "execution_count": null,
      "outputs": [
        {
          "output_type": "execute_result",
          "data": {
            "text/plain": [
              "<function matplotlib.pyplot.show(close=None, block=None)>"
            ],
            "text/html": [
              "<div style=\"max-width:800px; border: 1px solid var(--colab-border-color);\"><style>\n",
              "      pre.function-repr-contents {\n",
              "        overflow-x: auto;\n",
              "        padding: 8px 12px;\n",
              "        max-height: 500px;\n",
              "      }\n",
              "\n",
              "      pre.function-repr-contents.function-repr-contents-collapsed {\n",
              "        cursor: pointer;\n",
              "        max-height: 100px;\n",
              "      }\n",
              "    </style>\n",
              "    <pre style=\"white-space: initial; background:\n",
              "         var(--colab-secondary-surface-color); padding: 8px 12px;\n",
              "         border-bottom: 1px solid var(--colab-border-color);\"><b>matplotlib.pyplot.show</b><br/>def show(*args, **kwargs)</pre><pre class=\"function-repr-contents function-repr-contents-collapsed\" style=\"\"><a class=\"filepath\" style=\"display:none\" href=\"#\">/usr/local/lib/python3.10/dist-packages/matplotlib/pyplot.py</a>Display all open figures.\n",
              "\n",
              "Parameters\n",
              "----------\n",
              "block : bool, optional\n",
              "    Whether to wait for all figures to be closed before returning.\n",
              "\n",
              "    If `True` block and run the GUI main loop until all figure windows\n",
              "    are closed.\n",
              "\n",
              "    If `False` ensure that all figure windows are displayed and return\n",
              "    immediately.  In this case, you are responsible for ensuring\n",
              "    that the event loop is running to have responsive figures.\n",
              "\n",
              "    Defaults to True in non-interactive mode and to False in interactive\n",
              "    mode (see `.pyplot.isinteractive`).\n",
              "\n",
              "See Also\n",
              "--------\n",
              "ion : Enable interactive mode, which shows / updates the figure after\n",
              "      every plotting command, so that calling ``show()`` is not necessary.\n",
              "ioff : Disable interactive mode.\n",
              "savefig : Save the figure to an image file instead of showing it on screen.\n",
              "\n",
              "Notes\n",
              "-----\n",
              "**Saving figures to file and showing a window at the same time**\n",
              "\n",
              "If you want an image file as well as a user interface window, use\n",
              "`.pyplot.savefig` before `.pyplot.show`. At the end of (a blocking)\n",
              "``show()`` the figure is closed and thus unregistered from pyplot. Calling\n",
              "`.pyplot.savefig` afterwards would save a new and thus empty figure. This\n",
              "limitation of command order does not apply if the show is non-blocking or\n",
              "if you keep a reference to the figure and use `.Figure.savefig`.\n",
              "\n",
              "**Auto-show in jupyter notebooks**\n",
              "\n",
              "The jupyter backends (activated via ``%matplotlib inline``,\n",
              "``%matplotlib notebook``, or ``%matplotlib widget``), call ``show()`` at\n",
              "the end of every cell by default. Thus, you usually don&#x27;t have to call it\n",
              "explicitly there.</pre>\n",
              "      <script>\n",
              "      if (google.colab.kernel.accessAllowed && google.colab.files && google.colab.files.view) {\n",
              "        for (const element of document.querySelectorAll('.filepath')) {\n",
              "          element.style.display = 'block'\n",
              "          element.onclick = (event) => {\n",
              "            event.preventDefault();\n",
              "            event.stopPropagation();\n",
              "            google.colab.files.view(element.textContent, 401);\n",
              "          };\n",
              "        }\n",
              "      }\n",
              "      for (const element of document.querySelectorAll('.function-repr-contents')) {\n",
              "        element.onclick = (event) => {\n",
              "          event.preventDefault();\n",
              "          event.stopPropagation();\n",
              "          element.classList.toggle('function-repr-contents-collapsed');\n",
              "        };\n",
              "      }\n",
              "      </script>\n",
              "      </div>"
            ]
          },
          "metadata": {},
          "execution_count": 40
        },
        {
          "output_type": "display_data",
          "data": {
            "text/plain": [
              "<Figure size 640x480 with 2 Axes>"
            ],
            "image/png": "[encoded data removed]"
          },
          "metadata": {}
        }
      ]
    },
    {
      "cell_type": "code",
      "source": [
        "gdsc_data.to_csv(\"gdsc_data_preprocessed.csv\", index=False)\n",
        "\n",
        "X_train.to_csv(\"X_train.csv\", index=False)\n",
        "y_train.to_csv(\"y_train.csv\", index=False)\n",
        "X_test.to_csv(\"X_test.csv\", index=False)\n",
        "y_test.to_csv(\"y_test.csv\", index=False)"
      ],
      "metadata": {
        "id": "IeWZ7HPdaSbp"
      },
      "execution_count": null,
      "outputs": []
    },
    {
      "cell_type": "code",
      "source": [
        "from google.colab import files\n",
        "\n",
        "files.download(\"gdsc_data_preprocessed.csv\")\n",
        "\n",
        "files.download(\"X_train.csv\")\n",
        "files.download(\"y_train.csv\")\n",
        "files.download(\"X_test.csv\")\n",
        "files.download(\"y_test.csv\")"
      ],
      "metadata": {
        "colab": {
          "base_uri": "https://localhost:8080/",
          "height": 17
        },
        "id": "80j9zXeXaMbX",
        "outputId": "3878279a-54e1-41b9-f5b0-f3b93c1c80db"
      },
      "execution_count": null,
      "outputs": [
        {
          "output_type": "display_data",
          "data": {
            "text/plain": [
              "<IPython.core.display.Javascript object>"
            ],
            "application/javascript": [
              "\n",
              "    async function download(id, filename, size) {\n",
              "      if (!google.colab.kernel.accessAllowed) {\n",
              "        return;\n",
              "      }\n",
              "      const div = document.createElement('div');\n",
              "      const label = document.createElement('label');\n",
              "      label.textContent = `Downloading \"${filename}\": `;\n",
              "      div.appendChild(label);\n",
              "      const progress = document.createElement('progress');\n",
              "      progress.max = size;\n",
              "      div.appendChild(progress);\n",
              "      document.body.appendChild(div);\n",
              "\n",
              "      const buffers = [];\n",
              "      let downloaded = 0;\n",
              "\n",
              "      const channel = await google.colab.kernel.comms.open(id);\n",
              "      // Send a message to notify the kernel that we're ready.\n",
              "      channel.send({})\n",
              "\n",
              "      for await (const message of channel.messages) {\n",
              "        // Send a message to notify the kernel that we're ready.\n",
              "        channel.send({})\n",
              "        if (message.buffers) {\n",
              "          for (const buffer of message.buffers) {\n",
              "            buffers.push(buffer);\n",
              "            downloaded += buffer.byteLength;\n",
              "            progress.value = downloaded;\n",
              "          }\n",
              "        }\n",
              "      }\n",
              "      const blob = new Blob(buffers, {type: 'application/binary'});\n",
              "      const a = document.createElement('a');\n",
              "      a.href = window.URL.createObjectURL(blob);\n",
              "      a.download = filename;\n",
              "      div.appendChild(a);\n",
              "      a.click();\n",
              "      div.remove();\n",
              "    }\n",
              "  "
            ]
          },
          "metadata": {}
        },
        {
          "output_type": "display_data",
          "data": {
            "text/plain": [
              "<IPython.core.display.Javascript object>"
            ],
            "application/javascript": [
              "download(\"download_22b609dc-08ee-4815-b34b-2b3d98461ba3\", \"gdsc_data_preprocessed.csv\", 14710335)"
            ]
          },
          "metadata": {}
        },
        {
          "output_type": "display_data",
          "data": {
            "text/plain": [
              "<IPython.core.display.Javascript object>"
            ],
            "application/javascript": [
              "\n",
              "    async function download(id, filename, size) {\n",
              "      if (!google.colab.kernel.accessAllowed) {\n",
              "        return;\n",
              "      }\n",
              "      const div = document.createElement('div');\n",
              "      const label = document.createElement('label');\n",
              "      label.textContent = `Downloading \"${filename}\": `;\n",
              "      div.appendChild(label);\n",
              "      const progress = document.createElement('progress');\n",
              "      progress.max = size;\n",
              "      div.appendChild(progress);\n",
              "      document.body.appendChild(div);\n",
              "\n",
              "      const buffers = [];\n",
              "      let downloaded = 0;\n",
              "\n",
              "      const channel = await google.colab.kernel.comms.open(id);\n",
              "      // Send a message to notify the kernel that we're ready.\n",
              "      channel.send({})\n",
              "\n",
              "      for await (const message of channel.messages) {\n",
              "        // Send a message to notify the kernel that we're ready.\n",
              "        channel.send({})\n",
              "        if (message.buffers) {\n",
              "          for (const buffer of message.buffers) {\n",
              "            buffers.push(buffer);\n",
              "            downloaded += buffer.byteLength;\n",
              "            progress.value = downloaded;\n",
              "          }\n",
              "        }\n",
              "      }\n",
              "      const blob = new Blob(buffers, {type: 'application/binary'});\n",
              "      const a = document.createElement('a');\n",
              "      a.href = window.URL.createObjectURL(blob);\n",
              "      a.download = filename;\n",
              "      div.appendChild(a);\n",
              "      a.click();\n",
              "      div.remove();\n",
              "    }\n",
              "  "
            ]
          },
          "metadata": {}
        },
        {
          "output_type": "display_data",
          "data": {
            "text/plain": [
              "<IPython.core.display.Javascript object>"
            ],
            "application/javascript": [
              "download(\"download_3b0da237-b441-4525-9cb9-9e0d8ff2247c\", \"X_train.csv\", 7254863)"
            ]
          },
          "metadata": {}
        },
        {
          "output_type": "display_data",
          "data": {
            "text/plain": [
              "<IPython.core.display.Javascript object>"
            ],
            "application/javascript": [
              "\n",
              "    async function download(id, filename, size) {\n",
              "      if (!google.colab.kernel.accessAllowed) {\n",
              "        return;\n",
              "      }\n",
              "      const div = document.createElement('div');\n",
              "      const label = document.createElement('label');\n",
              "      label.textContent = `Downloading \"${filename}\": `;\n",
              "      div.appendChild(label);\n",
              "      const progress = document.createElement('progress');\n",
              "      progress.max = size;\n",
              "      div.appendChild(progress);\n",
              "      document.body.appendChild(div);\n",
              "\n",
              "      const buffers = [];\n",
              "      let downloaded = 0;\n",
              "\n",
              "      const channel = await google.colab.kernel.comms.open(id);\n",
              "      // Send a message to notify the kernel that we're ready.\n",
              "      channel.send({})\n",
              "\n",
              "      for await (const message of channel.messages) {\n",
              "        // Send a message to notify the kernel that we're ready.\n",
              "        channel.send({})\n",
              "        if (message.buffers) {\n",
              "          for (const buffer of message.buffers) {\n",
              "            buffers.push(buffer);\n",
              "            downloaded += buffer.byteLength;\n",
              "            progress.value = downloaded;\n",
              "          }\n",
              "        }\n",
              "      }\n",
              "      const blob = new Blob(buffers, {type: 'application/binary'});\n",
              "      const a = document.createElement('a');\n",
              "      a.href = window.URL.createObjectURL(blob);\n",
              "      a.download = filename;\n",
              "      div.appendChild(a);\n",
              "      a.click();\n",
              "      div.remove();\n",
              "    }\n",
              "  "
            ]
          },
          "metadata": {}
        },
        {
          "output_type": "display_data",
          "data": {
            "text/plain": [
              "<IPython.core.display.Javascript object>"
            ],
            "application/javascript": [
              "download(\"download_fc3de9d2-26c3-426f-8b9e-113b30280920\", \"y_train.csv\", 2889831)"
            ]
          },
          "metadata": {}
        },
        {
          "output_type": "display_data",
          "data": {
            "text/plain": [
              "<IPython.core.display.Javascript object>"
            ],
            "application/javascript": [
              "\n",
              "    async function download(id, filename, size) {\n",
              "      if (!google.colab.kernel.accessAllowed) {\n",
              "        return;\n",
              "      }\n",
              "      const div = document.createElement('div');\n",
              "      const label = document.createElement('label');\n",
              "      label.textContent = `Downloading \"${filename}\": `;\n",
              "      div.appendChild(label);\n",
              "      const progress = document.createElement('progress');\n",
              "      progress.max = size;\n",
              "      div.appendChild(progress);\n",
              "      document.body.appendChild(div);\n",
              "\n",
              "      const buffers = [];\n",
              "      let downloaded = 0;\n",
              "\n",
              "      const channel = await google.colab.kernel.comms.open(id);\n",
              "      // Send a message to notify the kernel that we're ready.\n",
              "      channel.send({})\n",
              "\n",
              "      for await (const message of channel.messages) {\n",
              "        // Send a message to notify the kernel that we're ready.\n",
              "        channel.send({})\n",
              "        if (message.buffers) {\n",
              "          for (const buffer of message.buffers) {\n",
              "            buffers.push(buffer);\n",
              "            downloaded += buffer.byteLength;\n",
              "            progress.value = downloaded;\n",
              "          }\n",
              "        }\n",
              "      }\n",
              "      const blob = new Blob(buffers, {type: 'application/binary'});\n",
              "      const a = document.createElement('a');\n",
              "      a.href = window.URL.createObjectURL(blob);\n",
              "      a.download = filename;\n",
              "      div.appendChild(a);\n",
              "      a.click();\n",
              "      div.remove();\n",
              "    }\n",
              "  "
            ]
          },
          "metadata": {}
        },
        {
          "output_type": "display_data",
          "data": {
            "text/plain": [
              "<IPython.core.display.Javascript object>"
            ],
            "application/javascript": [
              "download(\"download_85198d06-4db3-4c82-a053-9ce42c6c17a1\", \"X_test.csv\", 2418328)"
            ]
          },
          "metadata": {}
        },
        {
          "output_type": "display_data",
          "data": {
            "text/plain": [
              "<IPython.core.display.Javascript object>"
            ],
            "application/javascript": [
              "\n",
              "    async function download(id, filename, size) {\n",
              "      if (!google.colab.kernel.accessAllowed) {\n",
              "        return;\n",
              "      }\n",
              "      const div = document.createElement('div');\n",
              "      const label = document.createElement('label');\n",
              "      label.textContent = `Downloading \"${filename}\": `;\n",
              "      div.appendChild(label);\n",
              "      const progress = document.createElement('progress');\n",
              "      progress.max = size;\n",
              "      div.appendChild(progress);\n",
              "      document.body.appendChild(div);\n",
              "\n",
              "      const buffers = [];\n",
              "      let downloaded = 0;\n",
              "\n",
              "      const channel = await google.colab.kernel.comms.open(id);\n",
              "      // Send a message to notify the kernel that we're ready.\n",
              "      channel.send({})\n",
              "\n",
              "      for await (const message of channel.messages) {\n",
              "        // Send a message to notify the kernel that we're ready.\n",
              "        channel.send({})\n",
              "        if (message.buffers) {\n",
              "          for (const buffer of message.buffers) {\n",
              "            buffers.push(buffer);\n",
              "            downloaded += buffer.byteLength;\n",
              "            progress.value = downloaded;\n",
              "          }\n",
              "        }\n",
              "      }\n",
              "      const blob = new Blob(buffers, {type: 'application/binary'});\n",
              "      const a = document.createElement('a');\n",
              "      a.href = window.URL.createObjectURL(blob);\n",
              "      a.download = filename;\n",
              "      div.appendChild(a);\n",
              "      a.click();\n",
              "      div.remove();\n",
              "    }\n",
              "  "
            ]
          },
          "metadata": {}
        },
        {
          "output_type": "display_data",
          "data": {
            "text/plain": [
              "<IPython.core.display.Javascript object>"
            ],
            "application/javascript": [
              "download(\"download_a21609a4-7fcd-4d78-8dd3-915332927964\", \"y_test.csv\", 962399)"
            ]
          },
          "metadata": {}
        }
      ]
    }
  ]
}